{
 "cells": [
  {
   "cell_type": "code",
   "execution_count": null,
   "metadata": {},
   "outputs": [],
   "source": [
    "def ff_gen_template_video(clip_bg_fp,final_template_video_fp):\n",
    "    import subprocess,time\n",
    "    st=time.time()\n",
    "    subprocess.run(['ffmpeg', '-i', clip_bg_fp, '-vf', 'scale=1080:1920', '-y', 'content/resized_image.png'])\n",
    "    subprocess.run(['ffmpeg','-y','-loop','1','-i','content/resized_image.png','-i','content/video_template_with_mask.mov','-filter_complex','[0:v][1:v]overlay=shortest=1',final_template_video_fp])\n",
    "    subprocess.run(['rm', 'resized_image.png'])\n",
    "    print(f'gen_template run time:{time.time()-st}')"
   ]
  },
  {
   "cell_type": "code",
   "execution_count": null,
   "metadata": {},
   "outputs": [],
   "source": [
    "def sd_gen_template_video(prompt,final_template_video_fp):\n",
    "    import requests,base64\n",
    "    url = \"http://sd.insnail.com\"\n",
    "    option_resp = requests.get(f'{url}/sdapi/v1/options')\n",
    "    if \"realisticStockPhoto\" not in option_resp.json()['sd_model_checkpoint']:\n",
    "        option_payload = {\n",
    "            \"sd_model_checkpoint\": \"realisticStockPhoto_v30SD15\",\n",
    "        }\n",
    "        option_response = requests.post(url=f'{url}/sdapi/v1/options', json=option_payload)\n",
    "        print(f'{option_response.json()}')\n",
    "    payload = {\n",
    "    \"prompt\": f\"{prompt},<lora:Anchemix realistic house SDXL V1-000010:0.7>\",\n",
    "    \"steps\": 20,\n",
    "    \"width\": 720,\n",
    "    \"height\": 1280,\n",
    "    \"refiner_checkpoint\": \"realisticStockPhoto_v30SD15\",\n",
    "    \"refiner_switch_at\":0.8\n",
    "    }\n",
    "    response = requests.post(url=f'{url}/sdapi/v1/txt2img', json=payload)\n",
    "    print(f'bgimage_generated:{response}')\n",
    "    with open(\"temp/output.png\", 'wb') as f:\n",
    "        f.write(base64.b64decode(response.json()['images'][0]))\n",
    "    ff_gen_template_video('temp/output.png',final_template_video_fp)"
   ]
  },
  {
   "cell_type": "code",
   "execution_count": null,
   "metadata": {},
   "outputs": [],
   "source": [
    "prompt= \"Anchemix house,Anchemix realistic,no humans,scenery,table,indoors,chair,plant,couch,window,pillow,door,shadow\"\n",
    "sd_gen_template_video(prompt,'temp/ff_template_gen.mp4')"
   ]
  }
 ],
 "metadata": {
  "kernelspec": {
   "display_name": "Python 3",
   "language": "python",
   "name": "python3"
  },
  "language_info": {
   "name": "python",
   "version": "3.10.11"
  }
 },
 "nbformat": 4,
 "nbformat_minor": 2
}
